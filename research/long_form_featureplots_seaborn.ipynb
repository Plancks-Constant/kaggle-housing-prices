{
 "cells": [
  {
   "cell_type": "markdown",
   "metadata": {},
   "source": [
    "# Distributions of multiple numerical features with Seaborn\n",
    "When given a set of numerical features, it is desirable to plot all of them using for example violinplots, to get a sense of their respective distributions. Seaborn can do this automatically using the `violinplot` function, but this doesn't work so well when the features have widely different ranges. "
   ]
  },
  {
   "cell_type": "code",
   "execution_count": null,
   "metadata": {
    "collapsed": false
   },
   "outputs": [],
   "source": [
    "import string\n",
    "\n",
    "import pandas as pd\n",
    "import numpy as np\n",
    "import seaborn as sns"
   ]
  },
  {
   "cell_type": "markdown",
   "metadata": {},
   "source": [
    "# Get some random data\n",
    "Create a function that returns a data frame where each feature is a random numerical variable where we can control the max amplitude. "
   ]
  },
  {
   "cell_type": "code",
   "execution_count": null,
   "metadata": {
    "collapsed": false
   },
   "outputs": [],
   "source": [
    "def get_random_numerical_data(size, *amplitudes):\n",
    "    n = len(amplitudes)\n",
    "    data = np.random.random((size, n)) * np.array(amplitudes).reshape(1, n)\n",
    "    return pd.DataFrame(data=data, columns=pd.Series(list(string.ascii_uppercase[:n]), name=\"feature\"))"
   ]
  },
  {
   "cell_type": "code",
   "execution_count": null,
   "metadata": {
    "collapsed": false
   },
   "outputs": [],
   "source": [
    "get_random_numerical_data(5, 1, 2)"
   ]
  },
  {
   "cell_type": "code",
   "execution_count": null,
   "metadata": {
    "collapsed": false
   },
   "outputs": [],
   "source": [
    "get_random_numerical_data(500, 1, 2, 3, 4).describe().loc[['count', 'std', 'max']]"
   ]
  },
  {
   "cell_type": "markdown",
   "metadata": {},
   "source": [
    "# Plotting all features directly with Seaborn\n",
    "Works well when the data range is small"
   ]
  },
  {
   "cell_type": "code",
   "execution_count": null,
   "metadata": {
    "collapsed": false
   },
   "outputs": [],
   "source": [
    "df_small_range = get_random_numerical_data(500, 1, 2, 3, 4)\n",
    "sns.violinplot(df_small_range)"
   ]
  },
  {
   "cell_type": "code",
   "execution_count": null,
   "metadata": {
    "collapsed": false
   },
   "outputs": [],
   "source": [
    "df_big_range = get_random_numerical_data(500, 1, 10, 100, 1000)\n",
    "sns.violinplot(df_big_range)"
   ]
  },
  {
   "cell_type": "markdown",
   "metadata": {},
   "source": [
    "Changing the y-scale to log doesn't help much"
   ]
  },
  {
   "cell_type": "code",
   "execution_count": null,
   "metadata": {
    "collapsed": false
   },
   "outputs": [],
   "source": [
    "df_big_range = get_random_numerical_data(500, 1, 10, 100, 1000)\n",
    "h = sns.violinplot(df_big_range)\n",
    "h.set_yscale('log')"
   ]
  },
  {
   "cell_type": "markdown",
   "metadata": {},
   "source": [
    "# Plotting distributions on separate figures using Matplotlib\n",
    "We could standardize all columns with Scikit Learn but then we use all sense of scale. Ideally, we want to plot each data on a separate plot. We can do this with a little matplotlib function. "
   ]
  },
  {
   "cell_type": "code",
   "execution_count": null,
   "metadata": {
    "collapsed": false
   },
   "outputs": [],
   "source": [
    "import matplotlib.pyplot as plt\n",
    "def featureplot(df, nrows=1, ncols=1, figsize=(12,8), plotfunc=sns.violinplot):\n",
    "    \"\"\"Plot the dataframe features\"\"\"\n",
    "    width, height = figsize\n",
    "    fig, axes = plt.subplots(nrows, ncols, figsize=(width, height * nrows));\n",
    "    i = 0\n",
    "    plots_per_figure = max(df.shape[1] // (nrows * ncols), 1)\n",
    "    if nrows == 1 and ncols == 1:\n",
    "        axes = [axes]\n",
    "    if nrows > 1 and ncols > 1:\n",
    "        axes = chain.from_iterable(axes)  # flatten the nested list\n",
    "    for j, ax in zip(range(plots_per_figure, df.shape[1] + 1, plots_per_figure), axes):\n",
    "        plotfunc(df.iloc[:, i:j], ax=ax)\n",
    "        i = j\n",
    "    plt.tight_layout()"
   ]
  },
  {
   "cell_type": "code",
   "execution_count": null,
   "metadata": {
    "collapsed": false
   },
   "outputs": [],
   "source": [
    "featureplot(df_big_range, ncols=4)"
   ]
  },
  {
   "cell_type": "markdown",
   "metadata": {},
   "source": [
    "# Plotting on separate columns using Seaborn only\n",
    "However we can do this directly with Seaborn using a `FacetGrid` if we put the data in long form."
   ]
  },
  {
   "cell_type": "code",
   "execution_count": null,
   "metadata": {
    "collapsed": false
   },
   "outputs": [],
   "source": [
    "df_big_range_lf = df_big_range.stack().reset_index(name=\"value\").drop('level_0', axis=1)#.reset_index()  # don't keep the index\n",
    "df_big_range_lf.head()"
   ]
  },
  {
   "cell_type": "code",
   "execution_count": null,
   "metadata": {
    "collapsed": false
   },
   "outputs": [],
   "source": [
    "# size is the height of each figure and aspect is the with/height aspect ratio of each figure.\n",
    "sns.FacetGrid(df_big_range_lf, col=\"feature\", hue=\"feature\",\n",
    "              sharey=False, size=7, aspect=8/12.0/2.0).map(sns.violinplot, \"value\", orient=\"v\")"
   ]
  },
  {
   "cell_type": "markdown",
   "metadata": {},
   "source": [
    "## Appendix: stack vs pivot\n",
    "Pivot can be implemented by using `set_index` and `unstack`. "
   ]
  },
  {
   "cell_type": "code",
   "execution_count": null,
   "metadata": {
    "collapsed": false
   },
   "outputs": [],
   "source": [
    "test = pd.DataFrame({'foo':[\"one\"] * 3 + [\"two\"] * 3, 'bar': list(\"ABC\")*2, 'baz': list(range(6))})"
   ]
  },
  {
   "cell_type": "code",
   "execution_count": null,
   "metadata": {
    "collapsed": false
   },
   "outputs": [],
   "source": [
    "test"
   ]
  },
  {
   "cell_type": "code",
   "execution_count": null,
   "metadata": {
    "collapsed": false
   },
   "outputs": [],
   "source": [
    "test.pivot('foo', 'bar', 'baz')"
   ]
  },
  {
   "cell_type": "code",
   "execution_count": null,
   "metadata": {
    "collapsed": false
   },
   "outputs": [],
   "source": [
    "test.set_index(['foo','bar']).unstack()['baz']"
   ]
  }
 ],
 "metadata": {
  "kernelspec": {
   "display_name": "Python 3",
   "language": "python",
   "name": "python3"
  },
  "language_info": {
   "codemirror_mode": {
    "name": "ipython",
    "version": 3
   },
   "file_extension": ".py",
   "mimetype": "text/x-python",
   "name": "python",
   "nbconvert_exporter": "python",
   "pygments_lexer": "ipython3",
   "version": "3.5.2"
  }
 },
 "nbformat": 4,
 "nbformat_minor": 0
}
