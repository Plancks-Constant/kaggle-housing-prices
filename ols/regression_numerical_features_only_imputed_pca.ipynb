{
 "cells": [
  {
   "cell_type": "code",
   "execution_count": null,
   "metadata": {
    "collapsed": false
   },
   "outputs": [],
   "source": [
    "import itertools\n",
    "import os\n",
    "import sys\n",
    "\n",
    "import pandas as pd\n",
    "import numpy as np\n",
    "import scipy as sp\n",
    "import matplotlib.pyplot as plt\n",
    "import seaborn as sns\n",
    "import statsmodels.formula.api as smapi\n",
    "\n",
    "import sklearn as sk\n",
    "import sklearn.preprocessing\n",
    "import sklearn.model_selection\n",
    "import sklearn.base \n",
    "import sklearn.decomposition\n",
    "\n",
    "\n",
    "sys.path.insert(1, os.path.join(sys.path[0], '..'))\n",
    "import samlib"
   ]
  },
  {
   "cell_type": "markdown",
   "metadata": {},
   "source": [
    "# Load numerical data\n",
    "Generated in notebook ``data_exploration_numerical_features.ipynb``"
   ]
  },
  {
   "cell_type": "code",
   "execution_count": null,
   "metadata": {
    "collapsed": false
   },
   "outputs": [],
   "source": [
    "dfnum_t2 = pd.read_csv('transformed_numerical_dataset_imputed.csv', index_col=['Dataset','Id'])"
   ]
  },
  {
   "cell_type": "code",
   "execution_count": null,
   "metadata": {
    "collapsed": false
   },
   "outputs": [],
   "source": [
    "dfnum_t2.head()"
   ]
  },
  {
   "cell_type": "code",
   "execution_count": null,
   "metadata": {
    "collapsed": false
   },
   "outputs": [],
   "source": [
    "dfnum_t2.tail()"
   ]
  },
  {
   "cell_type": "markdown",
   "metadata": {},
   "source": [
    "# Explore colinearity"
   ]
  },
  {
   "cell_type": "code",
   "execution_count": null,
   "metadata": {
    "collapsed": false
   },
   "outputs": [],
   "source": [
    "import patsy\n"
   ]
  },
  {
   "cell_type": "code",
   "execution_count": null,
   "metadata": {
    "collapsed": false
   },
   "outputs": [],
   "source": [
    "def get_pca_dmatrices(dfnum_t2, ncols):\n",
    "    df = dfnum_t2.drop('SalePrice', axis=1).copy()\n",
    "    # Decompose input dataframe using pca\n",
    "    pca = sklearn.decomposition.PCA(ncols)\n",
    "    pca.fit(df)\n",
    "    dg = pd.DataFrame(data=pca.transform(df), \n",
    "                  columns=['PCA{}'.format(i) for i in range(ncols)])\n",
    "    dg.index = dfnum_t2.index\n",
    "    # Create model\n",
    "    formula = ' + '.join(dg)\n",
    "    Xfull = patsy.dmatrix(formula, dg, return_type='dataframe')\n",
    "    Xtrain = Xfull.loc['train']\n",
    "    Xtest = Xfull.loc['test']\n",
    "    ytrain = dfnum_t2['SalePrice'].loc['train']\n",
    "    return ytrain, Xtrain, Xtest\n"
   ]
  },
  {
   "cell_type": "code",
   "execution_count": null,
   "metadata": {
    "collapsed": false
   },
   "outputs": [],
   "source": [
    "ytrain, Xtrain, _ = get_pca_dmatrices(dfnum_t2, 10)"
   ]
  },
  {
   "cell_type": "code",
   "execution_count": null,
   "metadata": {
    "collapsed": false
   },
   "outputs": [],
   "source": [
    "Xtrain.shape"
   ]
  },
  {
   "cell_type": "code",
   "execution_count": null,
   "metadata": {
    "collapsed": false
   },
   "outputs": [],
   "source": [
    "ytrain.shape"
   ]
  },
  {
   "cell_type": "markdown",
   "metadata": {},
   "source": [
    "## Cross validation"
   ]
  },
  {
   "cell_type": "code",
   "execution_count": null,
   "metadata": {
    "collapsed": false
   },
   "outputs": [],
   "source": [
    "def ols(X, y):\n",
    "    return smapi.OLS(y, X)"
   ]
  },
  {
   "cell_type": "markdown",
   "metadata": {},
   "source": [
    "## Test the model \n",
    "### Use `sklearn.model_selection.train_test_split` to run some experiments and validate the models"
   ]
  },
  {
   "cell_type": "code",
   "execution_count": null,
   "metadata": {
    "collapsed": false
   },
   "outputs": [],
   "source": [
    "def rmse(prediction, exact):\n",
    "    return np.mean((prediction - exact)**2.0)**0.5\n",
    "\n",
    "def run_experiment(estimator, scoring=rmse, ncols=21):\n",
    "    yfull, Xfull, _ = get_pca_dmatrices(dfnum_t2, ncols)\n",
    "    Xtrain, Xtest, ytrain, ytest = sk.model_selection.train_test_split(Xfull, yfull)\n",
    "    model = estimator(Xtrain, ytrain).fit()\n",
    "    return scoring(model.predict(Xtest), ytest), model.condition_number\n",
    "\n",
    "def cross_validate(estimator, cv=5, ncols=21):\n",
    "    exps = np.array([run_experiment(estimator, ncols=ncols) for _ in range(cv)])\n",
    "    return exps"
   ]
  },
  {
   "cell_type": "code",
   "execution_count": null,
   "metadata": {
    "collapsed": false
   },
   "outputs": [],
   "source": [
    "cross_validate(ols).mean(axis=0)"
   ]
  },
  {
   "cell_type": "code",
   "execution_count": null,
   "metadata": {
    "collapsed": false
   },
   "outputs": [],
   "source": [
    "ncols_lst = list(range(1, dfnum_t2.shape[1]))\n",
    "mean_errs = []\n",
    "for ncols in ncols_lst:\n",
    "    errors = cross_validate(ols, ncols=ncols)\n",
    "    mean_errs.append(errors.mean(axis=0))"
   ]
  },
  {
   "cell_type": "code",
   "execution_count": null,
   "metadata": {
    "collapsed": false
   },
   "outputs": [],
   "source": [
    "mean_errs = np.array(mean_errs).T"
   ]
  },
  {
   "cell_type": "code",
   "execution_count": null,
   "metadata": {
    "collapsed": false
   },
   "outputs": [],
   "source": [
    "mean_errs[0]"
   ]
  },
  {
   "cell_type": "markdown",
   "metadata": {},
   "source": [
    "Twenty features strikes a good balance between low error and low condition number."
   ]
  },
  {
   "cell_type": "code",
   "execution_count": null,
   "metadata": {
    "collapsed": false
   },
   "outputs": [],
   "source": [
    "fig, axes = plt.subplots(1,2, figsize=(12, 6))\n",
    "\n",
    "axes[0].plot(ncols_lst, mean_errs[0])\n",
    "plt.xlabel('Number of PCA features')\n",
    "plt.ylabel('Mean error')\n",
    "\n",
    "axes[1].plot(ncols_lst, mean_errs[1])\n",
    "plt.xlabel('Number of PCA features')\n",
    "plt.ylabel('Condition number')\n"
   ]
  },
  {
   "cell_type": "markdown",
   "metadata": {},
   "source": [
    "### Use `sklearn.model_selection_cross_val_score` to validate the models\n",
    "An alternative way to cross validate. More direct but not as flexible as the previous one (can't easily get the condition number). "
   ]
  },
  {
   "cell_type": "code",
   "execution_count": null,
   "metadata": {
    "collapsed": false
   },
   "outputs": [],
   "source": [
    "ncols_lst = list(range(1, dfnum_t2.shape[1]))\n",
    "mean_errs = []\n",
    "for ncols in ncols_lst:\n",
    "    yfull, Xfull, _ = get_pca_dmatrices(dfnum_t2, ncols)\n",
    "    mse = np.sqrt(-sk.model_selection.cross_val_score(samlib.Regressor(ols), \n",
    "                                                      Xfull, \n",
    "                                                      y=yfull,  \n",
    "                                   scoring='neg_mean_squared_error', cv=10))\n",
    "    print(mse.mean())"
   ]
  },
  {
   "cell_type": "markdown",
   "metadata": {},
   "source": [
    "## Make a submission\n",
    "Let's use 20 features."
   ]
  },
  {
   "cell_type": "code",
   "execution_count": null,
   "metadata": {
    "collapsed": false
   },
   "outputs": [],
   "source": [
    "ncols=20\n",
    "ytrain, Xtrain, Xtest = get_pca_dmatrices(dfnum_t2, ncols)"
   ]
  },
  {
   "cell_type": "code",
   "execution_count": null,
   "metadata": {
    "collapsed": false
   },
   "outputs": [],
   "source": [
    "model = ols(Xtrain, ytrain)"
   ]
  },
  {
   "cell_type": "code",
   "execution_count": null,
   "metadata": {
    "collapsed": false
   },
   "outputs": [],
   "source": [
    "reg = model.fit()\n",
    "submission_t = reg.predict(Xtest)"
   ]
  },
  {
   "cell_type": "code",
   "execution_count": null,
   "metadata": {
    "collapsed": false
   },
   "outputs": [],
   "source": [
    "submission = np.expm1(submission_t) * 1000\n",
    "submission.head()"
   ]
  },
  {
   "cell_type": "code",
   "execution_count": null,
   "metadata": {
    "collapsed": false
   },
   "outputs": [],
   "source": [
    "def save(filename, submission):\n",
    "    df = pd.DataFrame(data={\n",
    "            \"Id\": np.arange(len(submission)) + 1461,\n",
    "            \"SalePrice\": submission\n",
    "            })\n",
    "    df.to_csv(filename, index=False)\n",
    "    \n",
    "save('ols_key_numerical_features_only_imputed_pca_ncols={}.csv'.format(ncols), submission)"
   ]
  },
  {
   "cell_type": "markdown",
   "metadata": {},
   "source": [
    "## Regression interpretation\n",
    "Statsmodels has special plots to explore the outcome of a regression model\n",
    "http://statsmodels.sourceforge.net/devel/examples/notebooks/generated/example_regression_plots.html"
   ]
  },
  {
   "cell_type": "markdown",
   "metadata": {
    "collapsed": false
   },
   "source": [
    "# Save PCA numerical features\n"
   ]
  },
  {
   "cell_type": "code",
   "execution_count": null,
   "metadata": {
    "collapsed": false
   },
   "outputs": [],
   "source": [
    "df = pd.concat([Xtrain, Xtest], keys=['train', 'test'])\n",
    "df.index.names = 'Dataset', 'Id'"
   ]
  },
  {
   "cell_type": "code",
   "execution_count": null,
   "metadata": {
    "collapsed": false
   },
   "outputs": [],
   "source": [
    "df.drop('Intercept', axis=1, inplace=True)\n",
    "df.loc['train','SalePrice'] = ytrain.values"
   ]
  },
  {
   "cell_type": "code",
   "execution_count": null,
   "metadata": {
    "collapsed": false
   },
   "outputs": [],
   "source": [
    "df.head()"
   ]
  },
  {
   "cell_type": "code",
   "execution_count": null,
   "metadata": {
    "collapsed": false
   },
   "outputs": [],
   "source": [
    "df.to_csv('transformed_numerical_dataset_imputed_pca_ncols={}.csv'.format(ncols), index=True)"
   ]
  },
  {
   "cell_type": "code",
   "execution_count": null,
   "metadata": {
    "collapsed": false
   },
   "outputs": [],
   "source": []
  }
 ],
 "metadata": {
  "kernelspec": {
   "display_name": "Python 3",
   "language": "python",
   "name": "python3"
  },
  "language_info": {
   "codemirror_mode": {
    "name": "ipython",
    "version": 3
   },
   "file_extension": ".py",
   "mimetype": "text/x-python",
   "name": "python",
   "nbconvert_exporter": "python",
   "pygments_lexer": "ipython3",
   "version": "3.5.2"
  }
 },
 "nbformat": 4,
 "nbformat_minor": 0
}
