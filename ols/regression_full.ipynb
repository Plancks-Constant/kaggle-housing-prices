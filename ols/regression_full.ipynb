{
 "cells": [
  {
   "cell_type": "code",
   "execution_count": null,
   "metadata": {
    "collapsed": false
   },
   "outputs": [],
   "source": [
    "import itertools\n",
    "import os\n",
    "import sys\n",
    "\n",
    "import pandas as pd\n",
    "import numpy as np\n",
    "import scipy as sp\n",
    "import matplotlib.pyplot as plt\n",
    "import seaborn as sns\n",
    "import statsmodels.formula.api as smapi\n",
    "\n",
    "import sklearn as sk\n",
    "import sklearn.preprocessing\n",
    "import sklearn.model_selection\n",
    "import sklearn.base \n",
    "\n",
    "import patsy\n",
    "\n",
    "sys.path.insert(1, os.path.join(sys.path[0], '..'))\n",
    "import samlib"
   ]
  },
  {
   "cell_type": "markdown",
   "metadata": {},
   "source": [
    "# Load data\n",
    "Generated in notebook ``data_exploration_numerical_features.ipynb``"
   ]
  },
  {
   "cell_type": "code",
   "execution_count": null,
   "metadata": {
    "collapsed": false
   },
   "outputs": [],
   "source": [
    "dfnum = pd.read_csv('transformed_numerical_dataset_imputed.csv', index_col=['Dataset','Id'])"
   ]
  },
  {
   "cell_type": "code",
   "execution_count": null,
   "metadata": {
    "collapsed": false
   },
   "outputs": [],
   "source": [
    "dfnum.head()"
   ]
  },
  {
   "cell_type": "code",
   "execution_count": null,
   "metadata": {
    "collapsed": false
   },
   "outputs": [],
   "source": [
    "dfnum.columns[:-1]"
   ]
  },
  {
   "cell_type": "code",
   "execution_count": null,
   "metadata": {
    "collapsed": false
   },
   "outputs": [],
   "source": [
    "dfnum = dfnum[['SalePrice'] + list(dfnum.columns[:-1])]"
   ]
  },
  {
   "cell_type": "code",
   "execution_count": null,
   "metadata": {
    "collapsed": false
   },
   "outputs": [],
   "source": [
    "dfcat = pd.read_csv('cleaned_categorical_vars_with_colz_sorted_by_goodness.csv', index_col=['Dataset','Id'])"
   ]
  },
  {
   "cell_type": "code",
   "execution_count": null,
   "metadata": {
    "collapsed": false
   },
   "outputs": [],
   "source": [
    "dfcat.head()"
   ]
  },
  {
   "cell_type": "code",
   "execution_count": null,
   "metadata": {
    "collapsed": false
   },
   "outputs": [],
   "source": [
    "def get_dataframe(nnum=None, ncat=None):\n",
    "    # Concatenate the first nnum numerical features and the first ncat categorical ones\n",
    "    if nnum is None:\n",
    "        nnum = dfnum.shape[1]\n",
    "    if ncat is None:\n",
    "        ncat = dfcat.shape[1]\n",
    "    df = pd.concat([dfnum.iloc[:, :nnum], dfcat.iloc[:, :ncat]], axis=1)\n",
    "    # Get design dataframes\n",
    "    formula = ' + '.join(df.drop('SalePrice', axis=1))\n",
    "    Xfull = patsy.dmatrix(formula, df, return_type='dataframe')\n",
    "    ytrain = df.loc['train'][['SalePrice']]\n",
    "    Xtrain = Xfull.loc['train']\n",
    "    Xtest = Xfull.loc['test']\n",
    "    return ytrain, Xtrain, Xtest"
   ]
  },
  {
   "cell_type": "markdown",
   "metadata": {},
   "source": [
    "## Cross validation"
   ]
  },
  {
   "cell_type": "code",
   "execution_count": null,
   "metadata": {
    "collapsed": false
   },
   "outputs": [],
   "source": [
    "def model(X, y):\n",
    "    return smapi.OLS(y, X)"
   ]
  },
  {
   "cell_type": "code",
   "execution_count": null,
   "metadata": {
    "collapsed": false
   },
   "outputs": [],
   "source": [
    "dfcat.shape"
   ]
  },
  {
   "cell_type": "code",
   "execution_count": null,
   "metadata": {
    "collapsed": false
   },
   "outputs": [],
   "source": [
    "dfnum.shape"
   ]
  },
  {
   "cell_type": "code",
   "execution_count": null,
   "metadata": {
    "collapsed": false
   },
   "outputs": [],
   "source": [
    "n1 = [dfnum.shape[1] - 1, dfnum.shape[1]]#np.arange(2, 16, 1)\n",
    "n2 = np.arange(2, 16)\n",
    "N1, N2 = np.meshgrid(n1, n2)"
   ]
  },
  {
   "cell_type": "code",
   "execution_count": null,
   "metadata": {
    "collapsed": false
   },
   "outputs": [],
   "source": [
    "N1.shape, N2.shape"
   ]
  },
  {
   "cell_type": "code",
   "execution_count": null,
   "metadata": {
    "collapsed": false
   },
   "outputs": [],
   "source": [
    "mselst = []\n",
    "for ncat in n2:\n",
    "    row = []\n",
    "    for nnum in n1:\n",
    "        ytrain, Xtrain, _ = get_dataframe(nnum=nnum, ncat=ncat)\n",
    "        mse = np.sqrt(-sk.model_selection.cross_val_score(samlib.Regressor(model), \n",
    "                      Xtrain, y=ytrain,  \n",
    "                      scoring='neg_mean_squared_error', cv=5)).mean()\n",
    "        print(nnum, ncat, mse)\n",
    "        row.append(mse)\n",
    "    mselst.append(row)\n",
    "msearr = np.array(mselst)"
   ]
  },
  {
   "cell_type": "code",
   "execution_count": null,
   "metadata": {
    "collapsed": false
   },
   "outputs": [],
   "source": [
    "plt.pcolormesh(N1-1, N2, msearr)\n",
    "plt.colorbar()\n",
    "plt.xlabel('Number of numerical variables')\n",
    "plt.ylabel('Number of categorical variables')"
   ]
  },
  {
   "cell_type": "markdown",
   "metadata": {},
   "source": [
    "## Submission"
   ]
  },
  {
   "cell_type": "code",
   "execution_count": null,
   "metadata": {
    "collapsed": false
   },
   "outputs": [],
   "source": [
    "ncat=5\n",
    "ytrain, Xtrain, Xtest = get_dataframe(ncat=ncat)"
   ]
  },
  {
   "cell_type": "markdown",
   "metadata": {},
   "source": [
    "As can be seen below, using more numerical values improves R-squared to 0.88 which is pretty good, though there's of course a risk of overfitting."
   ]
  },
  {
   "cell_type": "code",
   "execution_count": null,
   "metadata": {
    "collapsed": false
   },
   "outputs": [],
   "source": [
    "regression2 = smapi.OLS(ytrain, Xtrain).fit()\n",
    "regression2.summary()"
   ]
  },
  {
   "cell_type": "code",
   "execution_count": null,
   "metadata": {
    "collapsed": false
   },
   "outputs": [],
   "source": [
    "ytest = regression2.predict(Xtest)\n",
    "ytest"
   ]
  },
  {
   "cell_type": "code",
   "execution_count": null,
   "metadata": {
    "collapsed": false
   },
   "outputs": [],
   "source": [
    "submission = np.expm1(ytest) * 1000\n",
    "submission[:10]"
   ]
  },
  {
   "cell_type": "code",
   "execution_count": null,
   "metadata": {
    "collapsed": false
   },
   "outputs": [],
   "source": [
    "def save(filename, submission):\n",
    "    df = pd.DataFrame(data={\n",
    "            \"Id\": np.arange(len(submission)) + 1461,\n",
    "            \"SalePrice\": submission\n",
    "            })\n",
    "    df.to_csv(filename, index=False)\n",
    "    \n",
    "save('ols_full_{}.csv'.format(ncat), submission)"
   ]
  },
  {
   "cell_type": "markdown",
   "metadata": {},
   "source": [
    "## Regression interpretation\n",
    "Statsmodels has special plots to explore the outcome of a regression model\n",
    "http://statsmodels.sourceforge.net/devel/examples/notebooks/generated/example_regression_plots.html"
   ]
  }
 ],
 "metadata": {
  "kernelspec": {
   "display_name": "Python 3",
   "language": "python",
   "name": "python3"
  },
  "language_info": {
   "codemirror_mode": {
    "name": "ipython",
    "version": 3
   },
   "file_extension": ".py",
   "mimetype": "text/x-python",
   "name": "python",
   "nbconvert_exporter": "python",
   "pygments_lexer": "ipython3",
   "version": "3.5.2"
  }
 },
 "nbformat": 4,
 "nbformat_minor": 0
}
